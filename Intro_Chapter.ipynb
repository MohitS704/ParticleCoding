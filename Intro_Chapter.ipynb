{
  "nbformat": 4,
  "nbformat_minor": 0,
  "metadata": {
    "colab": {
      "provenance": [],
      "authorship_tag": "ABX9TyML9w+mbgbrLUuSXm7c6+e6",
      "include_colab_link": true
    },
    "kernelspec": {
      "name": "python3",
      "display_name": "Python 3"
    },
    "language_info": {
      "name": "python"
    }
  },
  "cells": [
    {
      "cell_type": "markdown",
      "metadata": {
        "id": "view-in-github",
        "colab_type": "text"
      },
      "source": [
        "<a href=\"https://colab.research.google.com/github/MohitS704/ParticleCoding/blob/main/Intro_Chapter.ipynb\" target=\"_parent\"><img src=\"https://colab.research.google.com/assets/colab-badge.svg\" alt=\"Open In Colab\"/></a>"
      ]
    },
    {
      "cell_type": "markdown",
      "source": [
        "# **Variable Assignment**"
      ],
      "metadata": {
        "id": "1JnE4f_RLVro"
      }
    },
    {
      "cell_type": "code",
      "execution_count": null,
      "metadata": {
        "id": "RoActxT1KLe6"
      },
      "outputs": [],
      "source": [
        "x = 10\n",
        "x = 1e6\n",
        "x = \"HELLO\"\n",
        "x, y, z = [1,2,3]\n",
        "(w, x), (y, z) = [(0, 1), (2, 3)]"
      ]
    },
    {
      "cell_type": "code",
      "source": [
        "print(\"This will throw an error\")\n",
        "w, x, y, z = [(0, 1), (2, 3)]"
      ],
      "metadata": {
        "colab": {
          "base_uri": "https://localhost:8080/",
          "height": 205
        },
        "id": "azkPg4BSKQlQ",
        "outputId": "72f2fce0-182a-4dc5-dd21-57d80a702d9b"
      },
      "execution_count": null,
      "outputs": [
        {
          "output_type": "stream",
          "name": "stdout",
          "text": [
            "This will throw an error\n"
          ]
        },
        {
          "output_type": "error",
          "ename": "ValueError",
          "evalue": "ignored",
          "traceback": [
            "\u001b[0;31m---------------------------------------------------------------------------\u001b[0m",
            "\u001b[0;31mValueError\u001b[0m                                Traceback (most recent call last)",
            "\u001b[0;32m<ipython-input-4-ef8053350cc6>\u001b[0m in \u001b[0;36m<cell line: 2>\u001b[0;34m()\u001b[0m\n\u001b[1;32m      1\u001b[0m \u001b[0mprint\u001b[0m\u001b[0;34m(\u001b[0m\u001b[0;34m\"This will throw an error\"\u001b[0m\u001b[0;34m)\u001b[0m\u001b[0;34m\u001b[0m\u001b[0;34m\u001b[0m\u001b[0m\n\u001b[0;32m----> 2\u001b[0;31m \u001b[0mw\u001b[0m\u001b[0;34m,\u001b[0m \u001b[0mx\u001b[0m\u001b[0;34m,\u001b[0m \u001b[0my\u001b[0m\u001b[0;34m,\u001b[0m \u001b[0mz\u001b[0m \u001b[0;34m=\u001b[0m \u001b[0;34m[\u001b[0m\u001b[0;34m(\u001b[0m\u001b[0;36m0\u001b[0m\u001b[0;34m,\u001b[0m \u001b[0;36m1\u001b[0m\u001b[0;34m)\u001b[0m\u001b[0;34m,\u001b[0m \u001b[0;34m(\u001b[0m\u001b[0;36m2\u001b[0m\u001b[0;34m,\u001b[0m \u001b[0;36m3\u001b[0m\u001b[0;34m)\u001b[0m\u001b[0;34m]\u001b[0m\u001b[0;34m\u001b[0m\u001b[0;34m\u001b[0m\u001b[0m\n\u001b[0m",
            "\u001b[0;31mValueError\u001b[0m: not enough values to unpack (expected 4, got 2)"
          ]
        }
      ]
    },
    {
      "cell_type": "markdown",
      "source": [
        "You could actually do this in Python 2, but it was removed in Python 3 (for good reason!)\n"
      ],
      "metadata": {
        "id": "fAVUDlbeOXQC"
      }
    },
    {
      "cell_type": "code",
      "source": [
        "False=True"
      ],
      "metadata": {
        "colab": {
          "base_uri": "https://localhost:8080/",
          "height": 133
        },
        "id": "_Evs1NbTOL7c",
        "outputId": "2d9534b5-ec05-4e94-e434-9a756e9db087"
      },
      "execution_count": null,
      "outputs": [
        {
          "output_type": "error",
          "ename": "SyntaxError",
          "evalue": "ignored",
          "traceback": [
            "\u001b[0;36m  File \u001b[0;32m\"<ipython-input-29-8907087d3ae7>\"\u001b[0;36m, line \u001b[0;32m2\u001b[0m\n\u001b[0;31m    False=True\u001b[0m\n\u001b[0m    ^\u001b[0m\n\u001b[0;31mSyntaxError\u001b[0m\u001b[0;31m:\u001b[0m cannot assign to False\n"
          ]
        }
      ]
    },
    {
      "cell_type": "markdown",
      "source": [
        "# **Function Declaration**"
      ],
      "metadata": {
        "id": "kVCVdaxXOh3Q"
      }
    },
    {
      "cell_type": "code",
      "source": [
        "def func(x):\n",
        "  "
      ],
      "metadata": {
        "id": "XMrLXtIrOk-Y"
      },
      "execution_count": null,
      "outputs": []
    },
    {
      "cell_type": "markdown",
      "source": [
        "# **Exploring Loops**"
      ],
      "metadata": {
        "id": "XekTto_IWtYC"
      }
    },
    {
      "cell_type": "markdown",
      "source": [
        "Let's explore how loops work in Python. Unlike loops in other languages "
      ],
      "metadata": {
        "id": "UQx3eVvfWz3m"
      }
    },
    {
      "cell_type": "code",
      "source": [],
      "metadata": {
        "id": "V0b0cqiXWy7l"
      },
      "execution_count": null,
      "outputs": []
    },
    {
      "cell_type": "markdown",
      "source": [
        "# **Recursion Examples**"
      ],
      "metadata": {
        "id": "0CXs4GW9LxtZ"
      }
    },
    {
      "cell_type": "markdown",
      "source": [
        "Let's look at printing a list. This can normally be done with a simple for loop, but let's try doing it with recursion too"
      ],
      "metadata": {
        "id": "NSMjlxRRMI2x"
      }
    },
    {
      "cell_type": "code",
      "source": [
        "test_list = [1,2,3,4,5]"
      ],
      "metadata": {
        "id": "yXxGkIcrMZTp"
      },
      "execution_count": null,
      "outputs": []
    },
    {
      "cell_type": "code",
      "source": [
        "def printList(lst):\n",
        "  for i in lst:\n",
        "    print(i, end=\" \")\n",
        "\n",
        "def printList_recursion(lst, i):\n",
        "  if i >= len(lst):\n",
        "    return\n",
        "  print(lst[i], end= \" \")\n",
        "  printList_recursion(lst, i+1)"
      ],
      "metadata": {
        "id": "khGOgz5hLrcI"
      },
      "execution_count": null,
      "outputs": []
    },
    {
      "cell_type": "code",
      "source": [
        "printList(test_list)"
      ],
      "metadata": {
        "colab": {
          "base_uri": "https://localhost:8080/"
        },
        "id": "QwCC12x7Mk7B",
        "outputId": "26f3ba1c-ff9a-434b-f858-9969a8655977"
      },
      "execution_count": null,
      "outputs": [
        {
          "output_type": "stream",
          "name": "stdout",
          "text": [
            "1 2 3 4 5 "
          ]
        }
      ]
    },
    {
      "cell_type": "code",
      "source": [
        "# The benefit of the second function is that we can start from anywhere we want!\n",
        "printList_recursion(test_list, 0)\n",
        "print(\"\\n\" + \"-\"*10)\n",
        "printList_recursion(test_list,3)\n",
        "print(\"\\n\" + \"-\"*10)\n",
        "printList_recursion(test_list, 100000) #built in error correction with the proper basecase!"
      ],
      "metadata": {
        "colab": {
          "base_uri": "https://localhost:8080/"
        },
        "id": "32e0PPj_M8SJ",
        "outputId": "dc17818a-1a13-4f91-d129-990c73cc72b0"
      },
      "execution_count": null,
      "outputs": [
        {
          "output_type": "stream",
          "name": "stdout",
          "text": [
            "1 2 3 4 5 \n",
            "----------\n",
            "4 5 \n",
            "----------\n"
          ]
        }
      ]
    },
    {
      "cell_type": "code",
      "source": [],
      "metadata": {
        "id": "XJL5aLU5NB0J"
      },
      "execution_count": null,
      "outputs": []
    }
  ]
}